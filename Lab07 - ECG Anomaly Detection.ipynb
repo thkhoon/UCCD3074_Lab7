{
 "cells": [
  {
   "cell_type": "markdown",
   "metadata": {
    "id": "jndrVWlBP13d"
   },
   "source": [
    "# Lab07 - ECG Anomaly Detection System\n",
    "\n",
    "In this lab, your task is to construct a deep learning system to detect anomalous ecg signal where abnormal heartbeat has a label`y`= 1 and normal heartbeat a label of `y`=0. An ECG signal is a time series data with 140 time units corresponding to a single heartbeat of a patient. There is a total of 4998 ECG samples collected from different patients.\n"
   ]
  },
  {
   "cell_type": "code",
   "execution_count": null,
   "metadata": {
    "id": "4Gw8uG2rX_Up"
   },
   "outputs": [],
   "source": [
    "from google.colab import drive\n",
    "drive.mount('/content/gdrive')"
   ]
  },
  {
   "cell_type": "code",
   "execution_count": null,
   "metadata": {
    "id": "UQrrVSt1Xo83"
   },
   "outputs": [],
   "source": [
    "cd \"/content/gdrive/MyDrive/UCCD3074_Labs/UCCD3074_Lab7\""
   ]
  },
  {
   "cell_type": "code",
   "execution_count": null,
   "metadata": {
    "id": "9l903XF1lll5"
   },
   "outputs": [],
   "source": [
    "import numpy as np\n",
    "import pandas as pd\n",
    "import matplotlib.pyplot as plt\n",
    "\n",
    "import torch\n",
    "from torch.utils.data import Dataset\n",
    "\n",
    "import torch\n",
    "import torch.nn as nn\n",
    "import torch.nn.functional as F\n",
    "import torch.optim as optim"
   ]
  },
  {
   "cell_type": "markdown",
   "metadata": {
    "id": "H3asjSKYnUFV"
   },
   "source": [
    "Helper function"
   ]
  },
  {
   "cell_type": "code",
   "execution_count": null,
   "metadata": {
    "id": "_6vwmKnknUFX"
   },
   "outputs": [],
   "source": [
    "def display(x, y):\n",
    "    # Display the sample\n",
    "    plt.figure(figsize=(5, 2))\n",
    "    label = 'Abnormal' if y==1 else 'normal'\n",
    "    color = 'red' if y==1 else 'blue'\n",
    "    plt.plot(x.squeeze(), label='id=' + str(i), color=color)\n",
    "    plt.title(label, fontsize=18)\n",
    "    plt.legend(loc=\"lower right\")\n",
    "    plt.show()"
   ]
  },
  {
   "cell_type": "code",
   "execution_count": null,
   "metadata": {
    "id": "gP2hrdjpnUFY"
   },
   "outputs": [],
   "source": [
    "def display_dataset(X, y, num_rows=3):\n",
    "    fig, axs = plt.subplots(num_rows, 2, sharex=True, sharey=True, figsize=(8, 5))\n",
    "    fig.suptitle('ECG signal samples', fontsize=16)\n",
    "\n",
    "    for r in range(num_rows):\n",
    "        pos_id = np.random.choice(np.where(y == 1)[0])\n",
    "        axs[r, 0].plot(X[pos_id].squeeze(), color=\"red\", label=\"id=\" + str(pos_id))\n",
    "        axs[r, 0].legend(loc=\"lower right\")\n",
    "\n",
    "        neg_id = np.random.choice(np.where(y == 0)[0])\n",
    "        axs[r, 1].plot(X[neg_id].squeeze(), color=\"blue\", label=\"id=\" + str(neg_id))\n",
    "        axs[r, 1].legend(loc=\"lower right\")\n",
    "\n",
    "    axs[0,0].set_title('Abnormal')\n",
    "    axs[0,1].set_title('Normal')\n",
    "    fig.tight_layout(rect=[0, 0.03, 1, 0.95])\n",
    "\n",
    "    plt.show()"
   ]
  },
  {
   "cell_type": "markdown",
   "metadata": {
    "id": "65FZKcExnUFa"
   },
   "source": [
    "---\n",
    "# 1. Explore the dataset\n",
    "\n",
    "**Task**: Load the dataset from `ecg.csv`. Then, extract the input matrix `X` and output vector `y`. Verify that `X` is a numpy array of shape `(4998, 140)`)  (numpy array of `(4998,)`). The label can be found in the last column of the csv file. "
   ]
  },
  {
   "cell_type": "code",
   "execution_count": null,
   "metadata": {
    "id": "I0c6x6GidGA-"
   },
   "outputs": [],
   "source": [
    "# ...your code here ..."
   ]
  },
  {
   "cell_type": "code",
   "execution_count": null,
   "metadata": {
    "id": "m7V4lghxnUFc"
   },
   "outputs": [],
   "source": [
    "print(f'X is a {type(X)} with dtype {X.dtype} and shape {tuple(X.shape)}')\n",
    "print(f'y is a {type(y)} with dtype {y.dtype} and shape {tuple(y.shape)}')"
   ]
  },
  {
   "cell_type": "code",
   "execution_count": null,
   "metadata": {
    "id": "q0-BxoLvnUFd"
   },
   "outputs": [],
   "source": [
    "display_dataset(X, y)"
   ]
  },
  {
   "cell_type": "markdown",
   "metadata": {},
   "source": [
    "**Task**: Check and confirm that there is no data imbalance in the dataset"
   ]
  },
  {
   "cell_type": "code",
   "execution_count": null,
   "metadata": {},
   "outputs": [],
   "source": [
    "# ... your code here ..."
   ]
  },
  {
   "cell_type": "markdown",
   "metadata": {
    "id": "GiEj9Q0unUFe"
   },
   "source": [
    "## Input preprocessing\n",
    "\n",
    "Since the data is a time series, we shall use 1-D convolutional (`nn.Conv1d`) layers rather than 2-D to construct the network. The input to a 1-D convolutional layer is a tensor of shape `(B, C, L)` where `B` is the batch size, `C` is the number of channels, and `L` is the length of the 1-D input vector. The raw input matrix has a dimensionality of `(B, L)`. Hence, it is necessary to insert the channel dimension into `X`.\n",
    "\n",
    "**Task**: Add the channel dimension `C` to the input matrix so that the input matrix has a dimension of `(B, C, L)` = `(4998, 1, 140)`."
   ]
  },
  {
   "cell_type": "code",
   "execution_count": null,
   "metadata": {
    "id": "0gu0ZvVXnUFe"
   },
   "outputs": [],
   "source": [
    "# ...your code here ...\n",
    "print(X.shape)"
   ]
  },
  {
   "cell_type": "markdown",
   "metadata": {
    "id": "usc96S77nUFf"
   },
   "source": [
    "## Create custom dataset\n",
    "\n",
    "**Task**: create a custom dataset class (inherits from `torch.utils.data.Datset`) for the ECG dataset."
   ]
  },
  {
   "cell_type": "code",
   "execution_count": null,
   "metadata": {
    "id": "lYRysPSBQgiX"
   },
   "outputs": [],
   "source": [
    "class Dataset(Dataset):\n",
    "    \n",
    "    def __init__(self, filename):        \n",
    "        # ...your code here ...\n",
    "\n",
    "    def __getitem__(self, idx):\n",
    "        # ...your code here ...\n",
    "        return x, y\n",
    "    \n",
    "    def __len__(self):\n",
    "        # ...your code here ...\n",
    "        return num_items"
   ]
  },
  {
   "cell_type": "markdown",
   "metadata": {
    "id": "a2m6MsmdnUFh"
   },
   "source": [
    "Test your implementation here by displaying the ECG signal for one sample."
   ]
  },
  {
   "cell_type": "code",
   "execution_count": null,
   "metadata": {
    "id": "YwB3f_yynUFh"
   },
   "outputs": [],
   "source": [
    "dataset = Dataset('ecg.csv')\n",
    "\n",
    "i = np.random.choice(len(dataset))\n",
    "x, y = dataset[i]\n",
    "\n",
    "display(x, y)"
   ]
  },
  {
   "cell_type": "markdown",
   "metadata": {
    "id": "AK6zj3kEnUFi"
   },
   "source": [
    "## Split dataset\n",
    "\n",
    "**Task**: Split your dataset so that 80% of the samples are used for training (`trainset`) and 20% for testing (`testset`). You may use the command [`torch.utils.data.random_split`)](https://pytorch.org/docs/stable/data.html#torch.utils.data.random_split)"
   ]
  },
  {
   "cell_type": "code",
   "execution_count": null,
   "metadata": {
    "id": "r2zWM6pqnUFi"
   },
   "outputs": [],
   "source": [
    "trainset, testset = # ...your code here ..."
   ]
  },
  {
   "cell_type": "markdown",
   "metadata": {
    "id": "07iZ2frVnUFj"
   },
   "source": [
    "## Implement the Data Loader\n",
    "\n",
    "**Task**: implement the data loader"
   ]
  },
  {
   "cell_type": "code",
   "execution_count": null,
   "metadata": {
    "id": "WDgA4oDWnUFj"
   },
   "outputs": [],
   "source": [
    "trainloader = # ... your code here...\n",
    "testloader  = # ... your code here..."
   ]
  },
  {
   "cell_type": "markdown",
   "metadata": {
    "id": "s-zSx0Z8nUFk"
   },
   "source": [
    "Test your implementation by loading a batch data from `dataloader`."
   ]
  },
  {
   "cell_type": "markdown",
   "metadata": {
    "id": "amJOV6RrrJsb"
   },
   "source": [
    "---\n",
    "# Build the network\n",
    "\n",
    "**Task**:  Design and implement a CNN that can perform ecg signal detection. Since the data is a 1-D data, you need to use 1-D convolutional layers (`torch.nn.Conv1d`) instead of the 2-D version. "
   ]
  },
  {
   "cell_type": "code",
   "execution_count": null,
   "metadata": {
    "id": "JF3aoBQMMQuC"
   },
   "outputs": [],
   "source": [
    "class Network(nn.Module):\n",
    "    # ... your code here..."
   ]
  },
  {
   "cell_type": "code",
   "execution_count": null,
   "metadata": {
    "id": "K2oGmo3LnUFl"
   },
   "outputs": [],
   "source": [
    "from torchsummary import summary\n",
    "summary(Network(), input_size=(1, 140), batch_size=4, device=\"cpu\")"
   ]
  },
  {
   "cell_type": "markdown",
   "metadata": {
    "id": "xWWEE2wvnUFm"
   },
   "source": [
    "Test your implementation by performing an inference on a batch data"
   ]
  },
  {
   "cell_type": "markdown",
   "metadata": {
    "id": "7rW24k7KnUFm"
   },
   "source": [
    "---\n",
    "# Train the model\n",
    "\n",
    "**Task**: Train your model. "
   ]
  },
  {
   "cell_type": "code",
   "execution_count": null,
   "metadata": {},
   "outputs": [],
   "source": [
    "from torch.optim.lr_scheduler import StepLR"
   ]
  },
  {
   "cell_type": "code",
   "execution_count": null,
   "metadata": {
    "id": "-J8Gysz8jRV3"
   },
   "outputs": [],
   "source": [
    "def train(net, trainloader, num_epochs=10, lr=0.01, momentum=0.9):\n",
    "\n",
    "    optimizer = optim.SGD(net.parameters(), lr=lr, momentum=momentum)\n",
    "    scheduler = StepLR(optimizer, 10, 0.1)\n",
    "\n",
    "    net.train()\n",
    "    \n",
    "    for e in range(num_epochs):\n",
    "\n",
    "        train_loss = 0.0\n",
    "\n",
    "        for i, (inputs, labels) in enumerate(trainloader):\n",
    "\n",
    "            optimizer.zero_grad()\n",
    "        \n",
    "            outs = net(inputs)   \n",
    "            outs = outs.view(-1)\n",
    "            loss = F.binary_cross_entropy(outs, labels)\n",
    "            loss.backward()\n",
    "            \n",
    "            train_loss += loss.item()*len(inputs)\n",
    "        \n",
    "            optimizer.step()  \n",
    "\n",
    "        scheduler.step() \n",
    "\n",
    "        train_loss /= len(trainloader.dataset)\n",
    "        print(f'Epoch {e+1:2d}: train_loss = {train_loss:.4f}')"
   ]
  },
  {
   "cell_type": "markdown",
   "metadata": {
    "id": "w3t8sfDjnUFp"
   },
   "source": [
    "# Test the model\n",
    "\n",
    "**Task**: Evaluate your model by computing the test accuracy. This is a relatively easy problem. It is possible to achieve a test accuracy of 98%."
   ]
  },
  {
   "cell_type": "code",
   "execution_count": null,
   "metadata": {
    "id": "Q8gncV5eg_CI"
   },
   "outputs": [],
   "source": [
    "def evaluate(net, dataloader):\n",
    "    net.eval()\n",
    "\n",
    "    running_corrects = 0    \n",
    "    count = 0\n",
    "    for inputs, targets in dataloader:\n",
    "        with torch.no_grad():\n",
    "            outputs = net(inputs).view(-1)\n",
    "            predicted =  (outputs >= 0.5).int()\n",
    "            running_corrects += (targets == predicted).double().sum()\n",
    "            count += len(targets)\n",
    "    \n",
    "    print('Accuracy = {:.2f}%'.format(100*running_corrects/len(dataloader.dataset)))        "
   ]
  },
  {
   "cell_type": "code",
   "execution_count": null,
   "metadata": {},
   "outputs": [],
   "source": [
    "evaluate(net, testloader)"
   ]
  },
  {
   "cell_type": "markdown",
   "metadata": {
    "id": "7IhfgoXqh_9X"
   },
   "source": [
    "<center> --- End of LabTest --- </center>"
   ]
  }
 ],
 "metadata": {
  "accelerator": "GPU",
  "colab": {
   "collapsed_sections": [],
   "name": "Lab07 - ECG Anomaly Detection.ipynb",
   "provenance": []
  },
  "kernelspec": {
   "display_name": "Python 3 (ipykernel)",
   "language": "python",
   "name": "python3"
  },
  "language_info": {
   "codemirror_mode": {
    "name": "ipython",
    "version": 3
   },
   "file_extension": ".py",
   "mimetype": "text/x-python",
   "name": "python",
   "nbconvert_exporter": "python",
   "pygments_lexer": "ipython3",
   "version": "3.9.12"
  }
 },
 "nbformat": 4,
 "nbformat_minor": 1
}
